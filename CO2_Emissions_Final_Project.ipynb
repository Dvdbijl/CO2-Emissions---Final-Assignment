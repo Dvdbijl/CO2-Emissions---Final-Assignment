{
  "nbformat": 4,
  "nbformat_minor": 0,
  "metadata": {
    "colab": {
      "provenance": [],
      "authorship_tag": "ABX9TyN+uZD3TcxuNoRaemA4ieJM",
      "include_colab_link": true
    },
    "kernelspec": {
      "name": "python3",
      "display_name": "Python 3"
    },
    "language_info": {
      "name": "python"
    }
  },
  "cells": [
    {
      "cell_type": "markdown",
      "metadata": {
        "id": "view-in-github",
        "colab_type": "text"
      },
      "source": [
        "<a href=\"https://colab.research.google.com/github/Dvdbijl/CO2-Emissions---Final-Assignment/blob/main/CO2_Emissions_Final_Project.ipynb\" target=\"_parent\"><img src=\"https://colab.research.google.com/assets/colab-badge.svg\" alt=\"Open In Colab\"/></a>"
      ]
    },
    {
      "cell_type": "markdown",
      "source": [
        "#Vraag 1\n"
      ],
      "metadata": {
        "id": "NwtGUUC1J7_C"
      }
    },
    {
      "cell_type": "code",
      "execution_count": 46,
      "metadata": {
        "id": "LCX7soaLlY9F"
      },
      "outputs": [],
      "source": [
        "import pandas as pd\n",
        "import numpy as np\n",
        "from functools import reduce\n",
        "import seaborn as sns\n",
        "import matplotlib.pyplot as plt"
      ]
    },
    {
      "cell_type": "code",
      "source": [
        "df_emmissions = pd.read_csv(\"https://github.com/Dvdbijl/CO2-Emissions---Final-Assignment/raw/main/co-emissions-per-capita.csv\")\n",
        "df_gdp = pd.read_csv(\"https://github.com/Dvdbijl/CO2-Emissions---Final-Assignment/raw/main/gdp-per-capita-penn-world-table.csv\")\n",
        "df_defor = pd.read_csv(\"https://github.com/Dvdbijl/CO2-Emissions---Final-Assignment/raw/main/annual-deforestation.csv\")\n",
        "df_meat = pd.read_csv(\"https://github.com/Dvdbijl/CO2-Emissions---Final-Assignment/raw/main/daily-meat-consumption-per-person.csv\")\n",
        "df_energy = pd.read_csv(\"https://github.com/Dvdbijl/CO2-Emissions---Final-Assignment/raw/main/share-energy-source-sub.csv\")"
      ],
      "metadata": {
        "id": "srTUavhWmn4T"
      },
      "execution_count": 47,
      "outputs": []
    },
    {
      "cell_type": "code",
      "source": [
        "print(df_emmissions.head)\n",
        "print(df_gdp.head)\n",
        "print(df_defor.head)\n",
        "print(df_meat.head)\n",
        "print(df_energy.head)"
      ],
      "metadata": {
        "id": "DVzDMOysoQhW"
      },
      "execution_count": null,
      "outputs": []
    },
    {
      "cell_type": "code",
      "source": [
        "#Renaming the columns to make it better readable\n",
        "df_emmissions.rename(columns={'Annual CO₂ emissions (per capita)': \"CO2 Emissions\"}, inplace=True)\n",
        "df_gdp.rename(columns={'GDP per capita (output, multiple price benchmarks)': \"GDP\"}, inplace=True)\n",
        "df_meat.rename(columns={'Meat, total | 00002943 || Food available for consumption | 0645pc || kilograms per year per capita': \"Meat Consumption\"}, inplace=True)\n",
        "df_energy.rename(columns={'Oil (% equivalent primary energy)': \"Oil\"}, inplace=True)\n",
        "df_energy.rename(columns={'Coal (% equivalent primary energy)': \"Coal\"}, inplace=True)\n",
        "df_energy.rename(columns={'Solar (% equivalent primary energy)': \"Solar\"}, inplace=True)\n",
        "df_energy.rename(columns={'Nuclear (% equivalent primary energy)': \"Nuclear\"}, inplace=True)\n",
        "df_energy.rename(columns={'Hydro (% equivalent primary energy)': \"Hydro\"}, inplace=True)\n",
        "df_energy.rename(columns={'Wind (% equivalent primary energy)': \"Wind\"}, inplace=True)\n",
        "df_energy.rename(columns={'Gas (% equivalent primary energy)': \"Gas\"}, inplace=True)\n",
        "df_energy.rename(columns={'Other renewables (% equivalent primary energy)': \"Other renewables\"}, inplace=True)\n"
      ],
      "metadata": {
        "id": "RAOPYyfopj78"
      },
      "execution_count": 48,
      "outputs": []
    },
    {
      "cell_type": "code",
      "source": [
        "#Dropping the column Code\n",
        "df_emmissions.drop(['Code'], axis=1, inplace=True)\n",
        "df_gdp.drop(['Code'], axis=1, inplace=True)\n",
        "df_defor.drop(['Code'], axis=1, inplace=True)\n",
        "df_meat.drop(['Code'], axis=1, inplace=True)\n",
        "df_energy.drop(['Code'], axis=1, inplace=True)"
      ],
      "metadata": {
        "id": "gMG9guD1tZ8y"
      },
      "execution_count": 49,
      "outputs": []
    },
    {
      "cell_type": "code",
      "source": [
        "#Merging the dataframes on the column Entity and Year\n",
        "data_frames = [df_emmissions, df_gdp, df_defor, df_meat, df_energy]\n",
        "df_merged = reduce(lambda  left,right: pd.merge(left,right,on=['Entity', 'Year'], how='outer'), data_frames)\n",
        "#Removing the NaN's and dropping the Year column\n",
        "df_merged.dropna(inplace=True)\n",
        "df_merged.drop(['Year'], axis=1, inplace=True)"
      ],
      "metadata": {
        "id": "k6oO4r5GuUEF"
      },
      "execution_count": 50,
      "outputs": []
    },
    {
      "cell_type": "code",
      "source": [
        "print(df_merged.corr())"
      ],
      "metadata": {
        "id": "leK5XHpBkAXt"
      },
      "execution_count": null,
      "outputs": []
    },
    {
      "cell_type": "code",
      "source": [
        "plt.figure(figsize=(16, 6))\n",
        "#Making a mask so that the upper values of the triangle are invincible\n",
        "mask = np.triu(np.ones_like(df_merged.corr()))\n",
        "heatmap = sns.heatmap(df_merged.corr(), mask=mask, vmin=-1, vmax=1, annot=True, cmap='BrBG')\n",
        "heatmap.set_title('Correlation Heatmap', fontdict={'fontsize':18}, pad=12);"
      ],
      "metadata": {
        "id": "PwjpXk0cs57W"
      },
      "execution_count": null,
      "outputs": []
    },
    {
      "cell_type": "code",
      "source": [
        "plt.figure(figsize=(8, 12))\n",
        "#Making a heatmap for just CO2 Emissions in descending manner\n",
        "heatmap = sns.heatmap(df_merged.corr()[['CO2 Emissions']].sort_values(by='CO2 Emissions', ascending=False), vmin=-1, vmax=1, annot=True, cmap='BrBG')\n",
        "heatmap.set_title('Features Correlating with CO2 Emissions', fontdict={'fontsize':18}, pad=16);"
      ],
      "metadata": {
        "id": "b-OVkvUnM-3E"
      },
      "execution_count": null,
      "outputs": []
    },
    {
      "cell_type": "markdown",
      "source": [
        "#Vraag 2"
      ],
      "metadata": {
        "id": "LusIJFRRiNiL"
      }
    },
    {
      "cell_type": "code",
      "source": [
        "import pandas as pd\n",
        "import numpy as np\n",
        "from functools import reduce\n",
        "import matplotlib.pyplot as plt\n",
        "%load_ext google.colab.data_table"
      ],
      "metadata": {
        "id": "8XpVgJc9iSTs"
      },
      "execution_count": null,
      "outputs": []
    },
    {
      "cell_type": "code",
      "source": [
        "df_pop = pd.read_csv(\"https://github.com/Dvdbijl/CO2-Emissions---Final-Assignment/raw/main/population-and-demography.csv\")\n",
        "df_annualco2 = pd.read_csv(\"https://github.com/Dvdbijl/CO2-Emissions---Final-Assignment/raw/main/annual-co2-emissions-per-country.csv\")"
      ],
      "metadata": {
        "id": "RUscIi2Obb4J"
      },
      "execution_count": 76,
      "outputs": []
    },
    {
      "cell_type": "code",
      "source": [
        "print(df_pop.head)\n",
        "print(df_annualco2)"
      ],
      "metadata": {
        "id": "L26UXqbYc8DE"
      },
      "execution_count": null,
      "outputs": []
    },
    {
      "cell_type": "code",
      "source": [
        "#Renaming the columns and dropping the Code column\n",
        "df_pop.rename(columns={'Country name': \"Entity\"}, inplace=True)\n",
        "df_annualco2.rename(columns={'Annual CO₂ emissions': \"CO2\"}, inplace=True)\n",
        "df_annualco2.drop(['Code'], axis=1, inplace=True)"
      ],
      "metadata": {
        "id": "MiEnJuredlfX"
      },
      "execution_count": 77,
      "outputs": []
    },
    {
      "cell_type": "code",
      "source": [
        "#Merging the dataframes on the column Entity and Year\n",
        "data_frames = [df_pop, df_annualco2]\n",
        "df = reduce(lambda  left,right: pd.merge(left,right,on=['Entity', 'Year'], how='outer'), data_frames)\n",
        "#dropping the NaN's\n",
        "df.dropna(inplace=True)"
      ],
      "metadata": {
        "id": "-n0WlmEUenGC"
      },
      "execution_count": 78,
      "outputs": []
    },
    {
      "cell_type": "code",
      "source": [
        "#Dropping the columns between Population and CO2 column\n",
        "df.drop(df.columns[3:24], axis=1, inplace=True)"
      ],
      "metadata": {
        "id": "Q7xOs45rfJ_u"
      },
      "execution_count": 79,
      "outputs": []
    },
    {
      "cell_type": "code",
      "source": [
        "display(df)"
      ],
      "metadata": {
        "id": "UaB1QxNnawq2"
      },
      "execution_count": null,
      "outputs": []
    },
    {
      "cell_type": "code",
      "source": [
        "#Calculating CO2 per capita and making a new column with the results\n",
        "df['CO2 Capita'] = df.CO2 / df.Population"
      ],
      "metadata": {
        "id": "jYZYrz5Gl3VZ"
      },
      "execution_count": 80,
      "outputs": []
    },
    {
      "cell_type": "code",
      "source": [
        "display(df)"
      ],
      "metadata": {
        "id": "7OG-5tXDm9qz"
      },
      "execution_count": null,
      "outputs": []
    },
    {
      "cell_type": "code",
      "source": [
        "#Calculating the Percentage Change for every column\n",
        "df['PC Population'] = df.groupby('Entity')['Population'].pct_change() * 100\n",
        "df['PC CO2'] = df.groupby('Entity')['CO2'].pct_change() * 100\n",
        "df['PC CO2 Capita'] = df.groupby('Entity')['CO2 Capita'].pct_change() * 100\n",
        "#Dropping NaN's\n",
        "df.dropna(inplace=True)"
      ],
      "metadata": {
        "id": "LIvuKm9Ns7JF"
      },
      "execution_count": 82,
      "outputs": []
    },
    {
      "cell_type": "code",
      "source": [
        "display(df)"
      ],
      "metadata": {
        "id": "eZ3vVG9dtXIx"
      },
      "execution_count": null,
      "outputs": []
    },
    {
      "cell_type": "code",
      "source": [
        "grouped_data = df.groupby('Entity')\n",
        "#Define a function to get the results for the last decade\n",
        "def calculate_sum_change_last_10_years(group):\n",
        "    # Sort the data by 'Year' within each group\n",
        "    group = group.sort_values('Year')\n",
        "\n",
        "    #Calculate the difference between the Percentage Change CO2 and the Percentage Change CO2 per Capita\n",
        "    group['CO2 Change'] = group['PC CO2'] - group['PC CO2 Capita']\n",
        "\n",
        "    #Get the CO2 Change for the last 10 years\n",
        "    last_10_years = group['CO2 Change'].tail(10)\n",
        "\n",
        "    #Calculate the sum of changes in CO2 Change over the last 10 years\n",
        "    sum_change_last_10_years = last_10_years.diff().sum()\n",
        "\n",
        "    #Assign the sum of changes to all rows of the last 10 years\n",
        "    group.loc[group['Year'] >= group['Year'].max() - 9, 'Change Last Decade'] = sum_change_last_10_years\n",
        "\n",
        "    return group\n",
        "\n",
        "#Apply the function to each group\n",
        "result_new = grouped_data.apply(calculate_sum_change_last_10_years)\n"
      ],
      "metadata": {
        "id": "OIk3jUXkqCv9"
      },
      "execution_count": null,
      "outputs": []
    },
    {
      "cell_type": "code",
      "source": [
        "display(result_new)"
      ],
      "metadata": {
        "id": "I0jQDqu1q1nM"
      },
      "execution_count": null,
      "outputs": []
    },
    {
      "cell_type": "code",
      "source": [
        "#Showing the data of the year 2021\n",
        "df_filtered = result_new.query('Year >= 2021')\n",
        "display(df_filtered)"
      ],
      "metadata": {
        "id": "TSIoU98rkhsm"
      },
      "execution_count": null,
      "outputs": []
    },
    {
      "cell_type": "code",
      "source": [
        "#Dataframe with just Enity and Change Last Decade column\n",
        "plot_df = df_filtered[['Entity', 'Change Last Decade']].copy()\n",
        "display(plot_df)"
      ],
      "metadata": {
        "id": "KEWCLnaCx9IQ"
      },
      "execution_count": null,
      "outputs": []
    },
    {
      "cell_type": "code",
      "source": [
        "#Sort the dataframe by Change Last Decade column in ascending order\n",
        "plot_df = plot_df.sort_values(by='Change Last Decade', ascending=True)\n",
        "\n",
        "#Select the top 10 rows\n",
        "top_10 = plot_df.head(10)\n",
        "\n",
        "display(top_10)"
      ],
      "metadata": {
        "id": "kgrJzDPwyYxL"
      },
      "execution_count": null,
      "outputs": []
    },
    {
      "cell_type": "code",
      "source": [
        "#Use Entity as index\n",
        "top_10.set_index('Entity', inplace=True)\n",
        "#Change negative numbers to positive\n",
        "top_10['Change Last Decade Positive'] = top_10['Change Last Decade'].abs()\n",
        "#Dropping Change Last Decade column\n",
        "top_10.drop(columns=['Change Last Decade'], inplace=True)"
      ],
      "metadata": {
        "id": "ZZlRBTXBM8e_"
      },
      "execution_count": null,
      "outputs": []
    },
    {
      "cell_type": "code",
      "source": [
        "#Plotting horizontal bar with the results\n",
        "ax = top_10.plot.barh(width=0.7, fontsize='14', figsize=(11,5));\n",
        "\n",
        "plt.xlabel('Percentage Change (%)')\n",
        "plt.ylabel('Country')\n",
        "plt.title('Top 10 Countries in decreasing CO2 output in last decade')\n",
        "plt.grid(axis='x')\n",
        "plt.legend([])\n",
        "\n",
        "for bar in ax.patches:\n",
        "    ax.text(bar.get_width(), bar.get_y() + bar.get_height()/2,\n",
        "             f'{bar.get_width():.2f}',\n",
        "             ha='left', va='center')"
      ],
      "metadata": {
        "id": "WBF6vSKIMZtv"
      },
      "execution_count": null,
      "outputs": []
    },
    {
      "cell_type": "markdown",
      "source": [
        "#Vraag 3"
      ],
      "metadata": {
        "id": "rqSe9qzO_U8l"
      }
    },
    {
      "cell_type": "code",
      "source": [
        "import pandas as pd\n",
        "import numpy as np\n",
        "import re\n",
        "import matplotlib.pyplot as plt\n",
        "from sklearn.linear_model import LinearRegression\n",
        "%load_ext google.colab.data_table"
      ],
      "metadata": {
        "id": "tKi935AHjiax"
      },
      "execution_count": null,
      "outputs": []
    },
    {
      "cell_type": "code",
      "source": [
        "df = pd.read_csv(\"https://github.com/Dvdbijl/CO2-Emissions---Final-Assignment/raw/main/levelized-cost-of-energy.csv\")"
      ],
      "metadata": {
        "id": "aurEZjkGkUEb"
      },
      "execution_count": 87,
      "outputs": []
    },
    {
      "cell_type": "code",
      "source": [
        "#Drop NaN's and the columns Code and Entity\n",
        "df.dropna(inplace=True)\n",
        "df.drop(['Code', 'Entity'], axis=1, inplace=True)\n",
        "display(df)"
      ],
      "metadata": {
        "id": "kM800l30kzuA"
      },
      "execution_count": null,
      "outputs": []
    },
    {
      "cell_type": "code",
      "source": [
        "#Removing levelized cost of energy from every column\n",
        "df.columns = df.columns.str.replace(' levelized cost of energy', '')"
      ],
      "metadata": {
        "id": "I9lAf-unvYmb"
      },
      "execution_count": 89,
      "outputs": []
    },
    {
      "cell_type": "code",
      "source": [
        "# Melt the DataFrame to have one row per (Year, Price_per_MWh, Energy resource) combination\n",
        "melted_df = pd.melt(df, id_vars=['Year'], var_name='Energy Resource', value_name='Price per kWh')"
      ],
      "metadata": {
        "id": "_nZken9Z2e7A"
      },
      "execution_count": 90,
      "outputs": []
    },
    {
      "cell_type": "code",
      "source": [
        "#Preparing data for linear regression\n",
        "X = melted_df[['Year']]  #independent variable\n",
        "y = melted_df['Price per kWh']  #dependent variable"
      ],
      "metadata": {
        "id": "eqmX7u3ufsE7"
      },
      "execution_count": 91,
      "outputs": []
    },
    {
      "cell_type": "code",
      "source": [
        "#Fit a linear regression model for each energy resource\n",
        "models = {}\n",
        "for resource in melted_df['Energy Resource'].unique():\n",
        "    resource_data = melted_df[melted_df['Energy Resource'] == resource]\n",
        "    model = LinearRegression()\n",
        "    model.fit(resource_data[['Year']], resource_data['Price per kWh'])\n",
        "    models[resource] = model"
      ],
      "metadata": {
        "id": "FUZ2AkeMfxSQ"
      },
      "execution_count": 92,
      "outputs": []
    },
    {
      "cell_type": "code",
      "source": [
        "#Predict future prices for the energy resources\n",
        "future_years = np.array([[2022], [2023], [2024], [2025], [2026]])\n",
        "future_prices = {}\n",
        "for resource, model in models.items():\n",
        "    future_prices[resource] = model.predict(future_years)"
      ],
      "metadata": {
        "id": "dIzNDbgDf1xn"
      },
      "execution_count": null,
      "outputs": []
    },
    {
      "cell_type": "code",
      "source": [
        "#Visualize the results\n",
        "plt.figure(figsize=(10, 6))\n",
        "for resource, model in models.items():\n",
        "    resource_data = melted_df[melted_df['Energy Resource'] == resource]\n",
        "    plt.plot(resource_data['Year'], model.predict(resource_data[['Year']]), label=resource)\n",
        "    plt.scatter(future_years, future_prices[resource])\n",
        "plt.xlabel('Year')\n",
        "plt.ylabel('Price per kWh ($)')\n",
        "plt.title('Non-fossil fuel energy prices over time with Linear Regression')\n",
        "plt.legend()\n",
        "plt.grid(True)\n",
        "plt.show()"
      ],
      "metadata": {
        "id": "WO36qDupf5N-"
      },
      "execution_count": null,
      "outputs": []
    }
  ]
}